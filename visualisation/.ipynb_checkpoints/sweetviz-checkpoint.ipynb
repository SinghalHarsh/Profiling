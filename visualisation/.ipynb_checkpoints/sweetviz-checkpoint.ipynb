{
 "cells": [
  {
   "cell_type": "code",
   "execution_count": 1,
   "metadata": {},
   "outputs": [
    {
     "name": "stderr",
     "output_type": "stream",
     "text": [
      "/Users/harsh/anaconda3/lib/python3.6/site-packages/statsmodels/tools/_testing.py:19: FutureWarning: pandas.util.testing is deprecated. Use the functions in the public API at pandas.testing instead.\n",
      "  import pandas.util.testing as tm\n"
     ]
    }
   ],
   "source": [
    "## Adding 'FDS profiling package'\n",
    "import sys\n",
    "sys.path.insert(0, '/Users/harsh/Desktop/DATA_SCIENCE/PandasProfiling/')\n",
    "\n",
    "import pandas as pd\n",
    "\n",
    "from fds_profiling.report import templates\n",
    "from fds_profiling.report.renderable import Renderable\n",
    "\n",
    "from fds_profiling.config import config\n",
    "\n",
    "from fds_profiling.model.base import get_df_col_types"
   ]
  },
  {
   "cell_type": "markdown",
   "metadata": {},
   "source": [
    "##### Titanic dataset"
   ]
  },
  {
   "cell_type": "code",
   "execution_count": 2,
   "metadata": {},
   "outputs": [],
   "source": [
    "import requests\n",
    "import io\n",
    "s = requests.get(\"https://raw.githubusercontent.com/datasciencedojo/datasets/master/titanic.csv\").content\n",
    "df = pd.read_csv(io.StringIO(s.decode('utf-8')))"
   ]
  },
  {
   "cell_type": "markdown",
   "metadata": {},
   "source": [
    "##### Variable types"
   ]
  },
  {
   "cell_type": "code",
   "execution_count": 3,
   "metadata": {},
   "outputs": [],
   "source": [
    "config.config[\"var_types\"] = get_df_col_types(df)"
   ]
  },
  {
   "cell_type": "markdown",
   "metadata": {},
   "source": [
    "##### Metrics"
   ]
  },
  {
   "cell_type": "code",
   "execution_count": 4,
   "metadata": {},
   "outputs": [],
   "source": [
    "metrics = {\"count\": lambda x: x[\"Survived\"].count()}\n",
    "\n",
    "metrics[\"sum\"] = lambda x: x[\"Survived\"].sum()\n",
    "# user_inputs = [\"sum\", \"avg\"]\n",
    "\n",
    "total_metrics = metrics"
   ]
  },
  {
   "cell_type": "code",
   "execution_count": 7,
   "metadata": {},
   "outputs": [],
   "source": [
    "# #### Metric 1: Count\n",
    "# df_1 = df.groupby('Name', as_index=False).agg({\"Survived\":'count'})\n",
    "# df_1.rename(columns={\"Survived\":\"count\"}, inplace=True)\n",
    "\n",
    "# #### Metric 2: Sum\n",
    "# df_2 = df.groupby('Name', as_index=False).agg({\"Survived\":'sum'})\n",
    "# df_2.rename(columns={\"Survived\":\"sum\"}, inplace=True)\n",
    "\n",
    "# join_df = pd.merge(df_1, df_2, on=['Name'], how=\"outer\")"
   ]
  },
  {
   "cell_type": "code",
   "execution_count": 8,
   "metadata": {},
   "outputs": [],
   "source": [
    "# join_df"
   ]
  },
  {
   "cell_type": "markdown",
   "metadata": {},
   "source": [
    "#### Report Structure"
   ]
  },
  {
   "cell_type": "code",
   "execution_count": 9,
   "metadata": {},
   "outputs": [],
   "source": [
    "data = [[\"Hello\",10],['Bob',12],['Clarke',13]]\n",
    "df_4 = pd.DataFrame(data,columns=['Name','Age'])\n",
    "\n",
    "data = [[\"World\",10],['Bob',12],['Clarke',13]]\n",
    "df_5 = pd.DataFrame(data,columns=['Name','Age'])"
   ]
  },
  {
   "cell_type": "code",
   "execution_count": 10,
   "metadata": {},
   "outputs": [],
   "source": [
    "## name, anchor_id, render\n",
    "sections = []\n",
    "\n",
    "## Overview\n",
    "sections.append(\n",
    "    Renderable(content = {\"dataframe\":df, \"metrics\":total_metrics, \"columns_types\":config.config[\"var_types\"]},\n",
    "               name=\"Overview\",\n",
    "               anchor_id=\"overview\",\n",
    "               type_id=\"nav_table\"))\n",
    "\n",
    "# ## Sample\n",
    "sections.append(\n",
    "    Renderable(content = {\"image_encodings\":{\"HelloWorld\":missing_matrix(df), \"Missing2\":df_5}, \"columns_types\":config.config[\"var_types\"]},\n",
    "               name=\"Missing\",\n",
    "               anchor_id=\"Missing\",\n",
    "               type_id=\"nav_image\"))"
   ]
  },
  {
   "cell_type": "markdown",
   "metadata": {},
   "source": [
    "##### Creating HTML report"
   ]
  },
  {
   "cell_type": "code",
   "execution_count": 11,
   "metadata": {},
   "outputs": [],
   "source": [
    "## Creating\n",
    "html_template = templates.template(\"report.html\")\n",
    "#### navigations items\n",
    "nav_items = [\n",
    "    (section.name, section.anchor_id)\n",
    "    for section in sections\n",
    "]\n",
    "\n",
    "data = html_template.render(\n",
    "    title = \"FDS Profiling\", ## report\n",
    "    nav_items=nav_items, ## navigation\n",
    "    sections=sections, ## report (content)\n",
    ")\n",
    "\n",
    "## Writing\n",
    "with open(\"sample_profiles/harsh_profiling.html\", \"w\") as file:\n",
    "    file.write(data)"
   ]
  },
  {
   "cell_type": "code",
   "execution_count": 10,
   "metadata": {},
   "outputs": [],
   "source": [
    "# print (data)"
   ]
  },
  {
   "cell_type": "markdown",
   "metadata": {},
   "source": [
    "##### Image checking"
   ]
  },
  {
   "cell_type": "code",
   "execution_count": 5,
   "metadata": {},
   "outputs": [],
   "source": [
    "\"\"\"Plotting functions for the missing values diagrams\"\"\"\n",
    "import matplotlib.pyplot as plt\n",
    "import pandas as pd\n",
    "from missingno import missingno\n",
    "\n",
    "from fds_profiling.visualisation.image_encoding import hex_to_rgb, plot_360_n0sc0pe"
   ]
  },
  {
   "cell_type": "code",
   "execution_count": 6,
   "metadata": {},
   "outputs": [],
   "source": [
    "def missing_matrix(data: pd.DataFrame) -> str:\n",
    "    \"\"\"Generate missing values matrix plot\n",
    "    Args:\n",
    "      data: Pandas DataFrame to generate missing values matrix from.\n",
    "    Returns:\n",
    "      The resulting missing values matrix encoded as a string.\n",
    "    \"\"\"\n",
    "    labels = True\n",
    "    missingno.matrix(\n",
    "        data,\n",
    "        figsize=(10, 4),\n",
    "        color=hex_to_rgb(\"#337ab7\"),\n",
    "        fontsize=10,\n",
    "        sparkline=False,\n",
    "        labels=labels,\n",
    "    )\n",
    "    plt.subplots_adjust(left=0.1, right=0.9, top=0.7, bottom=0.2)\n",
    "    return plot_360_n0sc0pe(plt)"
   ]
  },
  {
   "cell_type": "code",
   "execution_count": 23,
   "metadata": {},
   "outputs": [],
   "source": [
    "html_template = templates.template(\"temp.html\")\n",
    "\n",
    "data = html_template.render(\n",
    "    content = missing_matrix(df)\n",
    ")\n",
    "\n",
    "## Writing\n",
    "with open(\"sample_profiles/temp_profiling.html\", \"w\") as file:\n",
    "    file.write(data)"
   ]
  },
  {
   "cell_type": "code",
   "execution_count": null,
   "metadata": {},
   "outputs": [],
   "source": [
    "# print (missing_matrix(df))"
   ]
  },
  {
   "cell_type": "code",
   "execution_count": null,
   "metadata": {},
   "outputs": [],
   "source": []
  },
  {
   "cell_type": "code",
   "execution_count": null,
   "metadata": {},
   "outputs": [],
   "source": []
  },
  {
   "cell_type": "code",
   "execution_count": null,
   "metadata": {},
   "outputs": [],
   "source": []
  },
  {
   "cell_type": "code",
   "execution_count": null,
   "metadata": {},
   "outputs": [],
   "source": []
  },
  {
   "cell_type": "code",
   "execution_count": null,
   "metadata": {},
   "outputs": [],
   "source": []
  },
  {
   "cell_type": "code",
   "execution_count": 1,
   "metadata": {},
   "outputs": [],
   "source": [
    "#no"
   ]
  }
 ],
 "metadata": {
  "kernelspec": {
   "display_name": "Python 3",
   "language": "python",
   "name": "python3"
  },
  "language_info": {
   "codemirror_mode": {
    "name": "ipython",
    "version": 3
   },
   "file_extension": ".py",
   "mimetype": "text/x-python",
   "name": "python",
   "nbconvert_exporter": "python",
   "pygments_lexer": "ipython3",
   "version": "3.6.9"
  }
 },
 "nbformat": 4,
 "nbformat_minor": 4
}
